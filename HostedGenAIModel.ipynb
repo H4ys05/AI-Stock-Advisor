{
 "cells": [
  {
   "cell_type": "code",
   "execution_count": 48,
   "id": "ebe5d5d3-6bc1-4461-9db7-3596f8c8fce4",
   "metadata": {},
   "outputs": [],
   "source": [
    "import requests\n",
    "import json\n",
    "import ollama\n",
    "import time\n"
   ]
  },
  {
   "cell_type": "code",
   "execution_count": 49,
   "id": "164583f7-0ffa-4b43-bc63-4e553a825cdb",
   "metadata": {},
   "outputs": [],
   "source": [
    "def model_run():\n",
    "    overall_score = run()\n",
    "    title = overall_score['ticker']\n",
    "    score = overall_score['score']\n",
    "    articles = overall_score['news_titles']\n",
    "    client = ollama.Client()\n",
    "    \n",
    "    #model = \"gpt-oss:20b\"\n",
    "    \n",
    "    model=\"llama3.2:3b\" #due to structured input smaller faster model more viable then more powerful gpt-oss:20b model while maintaining accuracy\n",
    "\n",
    "    prompt = \"\"\"\n",
    "    You are a world-class stock analyst with deep expertise in interpreting market sentiment and corporate news. You will provide analysis from the perspective of a professional stock advisor giving direct investment guidance.\n",
    "    \n",
    "    You will be provided:\n",
    "    1. Company ticker (e.g., PLTR)\n",
    "    2. Sentiment score (range: -1 to 1) - USE THIS FOR YOUR ANALYSIS BUT DO NOT MENTION THE NUMERIC SCORE IN YOUR RESPONSE\n",
    "    3. List of recent news articles about the company\n",
    "    \n",
    "    Important Instructions:\n",
    "    - Write as a stock advisor giving direct investment perspective\n",
    "    - DO NOT mention or reference the sentiment score number in your response\n",
    "    - Use the sentiment score internally to guide your analysis but speak in plain investment terms\n",
    "    - MUST directly quote or reference specific news article headlines to support your points\n",
    "    - If any news articles are not relevant to the given ticker, disregard them\n",
    "    - Focus on what the news means for investors, not abstract sentiment analysis\n",
    "    \n",
    "    Your task:\n",
    "    - Analyze the overall market sentiment using the provided score as guidance\n",
    "    - Examine the news articles and directly reference specific headlines that support your view\n",
    "    - Provide investment-focused analysis explaining whether this is positive, neutral, or negative for investors\n",
    "    - Give a short-term outlook based on the news coverage\n",
    "    \n",
    "    Provide a clear, concise, single-paragraph summary that:\n",
    "    - Names the company and ticker\n",
    "    - States your investment perspective (bullish/bearish/neutral) in plain language\n",
    "    - Directly quotes or references specific news headlines to back up your analysis\n",
    "    - Offers practical short-term outlook for investors\n",
    "    \n",
    "    Example format:\n",
    "    \"Palantir (PLTR) presents a compelling investment opportunity based on current market developments. Recent headlines including 'Palantir upgraded at Wall Street Zen' and 'Wedbush thinks Palantir is speeding to trillion' indicate strong analyst confidence, while news of the 'Sompo collaboration targeting million annual efficiency gains' demonstrates concrete business growth. These positive developments suggest the stock is well-positioned for near-term gains as institutional support builds.\"\n",
    "    \n",
    "    Tone & Style:\n",
    "    - Write as a professional stock advisor\n",
    "    - Be direct and investment-focused\n",
    "    - Always reference specific news headlines\n",
    "    - Avoid academic language - use practical investment terms\n",
    "    - One well-structured paragraph\n",
    "    \"\"\"\n",
    "    articles_str = \"\\n\".join(f\"- {article}\" for article in articles)\n",
    "    \n",
    "    full_prompt = prompt + f\" Here is the ticker or company name {title}, here is the determined sentiment {score}, and here are the news articles:\\n{articles_str}\"\n",
    "\n",
    "    response= client.generate(model=model, prompt = full_prompt)\n",
    "\n",
    "    result = response.response\n",
    "    return result"
   ]
  },
  {
   "cell_type": "code",
   "execution_count": 50,
   "id": "88e63632-ef67-4cce-b66a-d1722ffbf83f",
   "metadata": {},
   "outputs": [
    {
     "name": "stdin",
     "output_type": "stream",
     "text": [
      "Enter Stock Ticker (Or company name (ticker more accurate)):  pltr\n"
     ]
    },
    {
     "name": "stdout",
     "output_type": "stream",
     "text": [
      "Fetching news for pltr...\n",
      "Skipping article with missing data for pltr\n"
     ]
    },
    {
     "name": "stderr",
     "output_type": "stream",
     "text": [
      "Device set to use cpu\n"
     ]
    },
    {
     "name": "stdout",
     "output_type": "stream",
     "text": [
      "Palantir Technologies (PLTR) presents a bullish investment opportunity based on current market developments. Recent headlines, such as \"Palantir upgraded at Wall Street Zen\" and \"Wedbush thinks Palantir is speeding to trillion,\" indicate strong analyst confidence in the company's growth prospects. Additionally, news of the \"Sompo collaboration targeting million annual efficiency gains\" demonstrates concrete business growth and partnerships that could drive future success. These positive developments suggest the stock is well-positioned for near-term gains as institutional support builds. With investors hopeful that tariffs won't squeeze markets, such as those expressed in \"Apple is a star again as investors hope tariffs dont squeeze markets,\" Palantir's diversified offerings may help it maintain its momentum.\n"
     ]
    }
   ],
   "source": [
    "test = model_run()\n",
    "print(test)"
   ]
  },
  {
   "cell_type": "code",
   "execution_count": null,
   "id": "a3523d3d-988e-4bf5-910e-cd58d3e4fd7d",
   "metadata": {},
   "outputs": [],
   "source": []
  }
 ],
 "metadata": {
  "kernelspec": {
   "display_name": "Python 3 (ipykernel)",
   "language": "python",
   "name": "python3"
  },
  "language_info": {
   "codemirror_mode": {
    "name": "ipython",
    "version": 3
   },
   "file_extension": ".py",
   "mimetype": "text/x-python",
   "name": "python",
   "nbconvert_exporter": "python",
   "pygments_lexer": "ipython3",
   "version": "3.12.7"
  }
 },
 "nbformat": 4,
 "nbformat_minor": 5
}
