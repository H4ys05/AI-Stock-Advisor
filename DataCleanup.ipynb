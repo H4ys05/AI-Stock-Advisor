{
 "cells": [
  {
   "cell_type": "code",
   "execution_count": 1,
   "id": "c0685075-46c4-441b-8409-932ef666d7e3",
   "metadata": {},
   "outputs": [],
   "source": [
    "import pandas as pd\n",
    "df = pd.read_csv(\"all-data.csv\", encoding=\"latin1\", header=None)\n",
    "df.columns = [\"label\", \"text\"]\n",
    "df = df.dropna(subset=[\"text\", \"label\"]).copy()\n",
    "df[\"label\"] = (df[\"label\"].astype(str)\n",
    "                         .str.strip()\n",
    "                         .str.lower()\n",
    "                         .str.replace('\"','')\n",
    "                         .str.replace(\"'\",\"\"))\n",
    "valid = {\"negative\",\"neutral\",\"positive\"}\n",
    "df = df[df[\"label\"].isin(valid)].drop_duplicates(subset=[\"text\"]).reset_index(drop=True)\n",
    "label2id = {\"negative\":0, \"neutral\":1, \"positive\":2}\n",
    "id2label = {v:k for k,v in label2id.items()}\n",
    "df[\"y\"] = df[\"label\"].map(label2id)\n",
    "df = df.drop(columns=[\"label\"])\n"
   ]
  },
  {
   "cell_type": "code",
   "execution_count": null,
   "id": "b7efe569-0e96-4e28-9006-117564321f28",
   "metadata": {},
   "outputs": [],
   "source": []
  }
 ],
 "metadata": {
  "kernelspec": {
   "display_name": "Python 3 (ipykernel)",
   "language": "python",
   "name": "python3"
  },
  "language_info": {
   "codemirror_mode": {
    "name": "ipython",
    "version": 3
   },
   "file_extension": ".py",
   "mimetype": "text/x-python",
   "name": "python",
   "nbconvert_exporter": "python",
   "pygments_lexer": "ipython3",
   "version": "3.12.7"
  }
 },
 "nbformat": 4,
 "nbformat_minor": 5
}
